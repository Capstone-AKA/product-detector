{
 "cells": [
  {
   "cell_type": "code",
   "execution_count": null,
   "metadata": {
    "executionInfo": {
     "elapsed": 1109,
     "status": "ok",
     "timestamp": 1749364872101,
     "user": {
      "displayName": "김동건",
      "userId": "00823456338726041363"
     },
     "user_tz": -540
    },
    "id": "jQvKJgv0Z8Gk"
   },
   "outputs": [],
   "source": [
    "import os\n",
    "\n",
    "dir_root = './data'\n",
    "image_root = dir_root + \"/train/images\"\n",
    "label_root = dir_root + \"/train/labels\"\n",
    "\n",
    "# 클래스 이름과 클래스 인덱스 매핑\n",
    "product_list = os.listdir(image_root)\n",
    "for i in range(len(product_list)):\n",
    "    product_list[i] = product_list[i][6:]"
   ]
  },
  {
   "cell_type": "code",
   "execution_count": 4,
   "metadata": {},
   "outputs": [],
   "source": [
    "import yaml\n",
    "\n",
    "data = {\n",
    "    'train': 'C:/capstone/data/processed/images/train',\n",
    "    'val': 'C:/capstone/data/processed/images/validation',\n",
    "    'nc': len(product_list),\n",
    "    'names': product_list\n",
    "}\n",
    "\n",
    "with open('data.yaml', 'w', encoding='utf-8') as f:\n",
    "    yaml.dump(data, f, allow_unicode=True)"
   ]
  },
  {
   "cell_type": "code",
   "execution_count": null,
   "metadata": {},
   "outputs": [],
   "source": [
    "import torch\n",
    "print(torch.version.cuda)\n",
    "print(torch.cuda.is_available())"
   ]
  },
  {
   "cell_type": "code",
   "execution_count": null,
   "metadata": {},
   "outputs": [],
   "source": [
    "from ultralytics import YOLO\n",
    "\n",
    "# Load a YOLO model\n",
    "saved = 'runs/detect/product_detector5/weights/best.pt'\n",
    "model = YOLO(saved)\n",
    "\n",
    "results = model.train(data=\"data.yaml\", epochs=10, batch=8, imgsz=640, device=0, name='product_detector')\n",
    "\n",
    "# Evaluate the model's performance on the validation set\n",
    "results = model.val()\n",
    "\n",
    "# Export the model to ONNX format\n",
    "# success = model.export(format=\"onnx\", device=0)"
   ]
  },
  {
   "cell_type": "code",
   "execution_count": null,
   "metadata": {
    "colab": {
     "base_uri": "https://localhost:8080/",
     "height": 373
    },
    "executionInfo": {
     "elapsed": 1720,
     "status": "error",
     "timestamp": 1749303509598,
     "user": {
      "displayName": "김동건",
      "userId": "12633686847712303365"
     },
     "user_tz": -540
    },
    "id": "IP9tGlGWTp5U",
    "outputId": "6199ea5f-026d-49cb-9a25-46ebb417387d"
   },
   "outputs": [],
   "source": [
    "### Legacy\n",
    " \n",
    "'''\n",
    "data_yaml = \"\"\"\n",
    "train: C:/capstone/data/processed/images/train\n",
    "val: C:/capstone/data/processed/images/validation\n",
    "\n",
    "\"\"\"\n",
    "\n",
    "data_yaml += 'nc: ' + str(len(product_list)) + '\\n'\n",
    "data_yaml += 'names: ' + str(product_list) + '\\n'\n",
    "\n",
    "with open(\"data.yaml\", \"w\") as f:\n",
    "    f.write(data_yaml)\n",
    "\n",
    "# n: 72\n",
    "# s: 74\n",
    "# m: 65\n",
    "\n",
    "saved = 'product-detector/runs/train/product_detector65/weights/best.pt'\n",
    "!python product-detector/train.py --img 640 --batch 8 --epochs 1 --data data.yaml --weights yolo11n.pt --name product_detector --device 0\n",
    "# !cp runs/train/product_detector/weights/best.pt {dir_root}\n",
    "\n",
    "from pathlib import Path\n",
    "import torch\n",
    "\n",
    "# best 모델 경로\n",
    "best_model_path = 'C:/capstone/product-detector/runs/train/product_detector15/weights/best.pt'\n",
    "\n",
    "# 모델 로드\n",
    "# model = torch.load(best_model_path, map_location='cpu', weights_only=False)\n",
    "# model = torch.hub.load('ultralytics\\\\yolov5', 'custom', path='runs/train/product_detector16/weights/best.pt', source='local')\n",
    "model = torch.hub.load('product_detector', 'custom', path=best_model_path, source='local')\n",
    "# model['epoch']  # 필요 시 확인 가능\n",
    "\n",
    "# val 성능 수동 평가 (YOLOv5는 결과 텍스트 저장함)\n",
    "metrics_path = Path('C:/capstone/yolov5/runs/train/product_detector18/results.csv')\n",
    "with open(metrics_path) as f:\n",
    "    lines = f.readlines()\n",
    "    last_line = lines[-1].strip().split(', ')  # 마지막 epoch 결과\n",
    "\n",
    "# val 정확도와 손실 값 추출\n",
    "# 보통 columns: train/val loss, obj_loss, cls_loss, P, R, mAP@0.5, mAP@0.5:0.95\n",
    "# mAP@0.5 = 7번째, val loss는 앞쪽 평균으로 판단\n",
    "acc = float(last_line[6])\n",
    "loss = float(last_line[2])  # 예: obj_loss\n",
    "\n",
    "# 포맷 맞춰 이름 생성\n",
    "acc_str = f\"{acc:.2f}\"\n",
    "loss_str = f\"{loss:.2f}\"\n",
    "new_name = f\"pd{acc_str}-{loss_str}.pt\"\n",
    "\n",
    "# 복사해서 저장\n",
    "target_path = f\"C:/capstone/model/{new_name}\"\n",
    "!cp runs/train/product_detector18/weights/best.pt {target_path}\n",
    "print(f\"Saved: {target_path}\")\n",
    "\n",
    "# 모델 성능 평가\n",
    "!python ./yolov5/val.py --weights C:/capstone/yolov5/runs/train/product_detector2/weights/best.pt --data data.yaml --img 640 --task val --device 0\n",
    "\n",
    "!python ./product-detector/detect.py --weights ./product-detector/runs/train/product_detector15/weights/best.pt --source C:/capstone/New_sample/aug/images/test --img 640\n",
    "''']"
   ]
  }
 ],
 "metadata": {
  "accelerator": "GPU",
  "colab": {
   "gpuType": "T4",
   "provenance": []
  },
  "kernelspec": {
   "display_name": "venv310",
   "language": "python",
   "name": "python3"
  },
  "language_info": {
   "codemirror_mode": {
    "name": "ipython",
    "version": 3
   },
   "file_extension": ".py",
   "mimetype": "text/x-python",
   "name": "python",
   "nbconvert_exporter": "python",
   "pygments_lexer": "ipython3",
   "version": "3.10.9"
  }
 },
 "nbformat": 4,
 "nbformat_minor": 0
}
